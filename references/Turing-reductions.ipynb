{
 "cells": [
  {
   "cell_type": "markdown",
   "metadata": {},
   "source": [
    "Turing reduction:\n",
    "\n",
    " - written as: A <<sub>T</sub> B\n",
    " - read as: problem A reduces to problem B\n",
    " - A is at least as easy as B (because we can solve A if we know how to solve B)\n",
    "\n",
    "_Solving A when knowing how to solve B_ is captured in the following pseudo-code:\n",
    "\n",
    "    def solveA(inA):\n",
    "\t    inB = transform(inA)\n",
    "\t    return solveB(inB)\n",
    "\n",
    "For example, if we know how to solve the satisfiability problem (SAT), then we can solve the k-Vertex Cover problem. The only thing we have to do is to convert the input from the k-Vertex Cover problem, `G = (V, E), k`, to a boolean formula `φ`.\n",
    "\n",
    "\n",
    "----------\n",
    "\n",
    "\n",
    "If A is not decidable, then B is not decidable and if B is decidable, then A is decidable. In general, `if A is not in X, then B is not in X` and `if B is in X, then A is in X`.\n",
    "\n",
    "The transformation `T` takes as an input an instance for problem A, in<sub>A</sub> and outputs an input for problem B, in<sub>B</sub>: T(in<sub>A</sub>) = in<sub>B</sub>. The transformation must be decidable (it should only convert inputs and not perform any other computation that itself is not decidable).\n",
    "\n",
    "For example, the following transformation is not decidable:\n",
    "\n",
    "    T(M): {\n",
    "\t\tif M halts \n",
    "\t\t\treturn M' with 111 on the tape\n",
    "\t\telse\n",
    "\t\t\treturn M' with 000 on the tape\n",
    "\t}\n",
    "\t\t\t\t\n",
    "The above transformation is not decidable because it performs a computation that is not decidable (asks whether M halts, and that is the halting problem).\n",
    "\n",
    "The following example illustrates a transformation that is decidable:\n",
    "\n",
    "    T(M, w): {\n",
    "\t    w' = w.append('$').append(w) // w' = w$w\n",
    "\t    return M' with w' on the tape\n",
    "\t}\n",
    "\n",
    "The above transformation is decidable because the only thing it does is to alter its input (i.e. convert it to `w$w`)."
   ]
  }
 ],
 "metadata": {
  "kernelspec": {
   "display_name": "Python 2",
   "language": "python",
   "name": "python2"
  },
  "language_info": {
   "codemirror_mode": {
    "name": "ipython",
    "version": 2
   },
   "file_extension": ".py",
   "mimetype": "text/x-python",
   "name": "python",
   "nbconvert_exporter": "python",
   "pygments_lexer": "ipython2",
   "version": "2.7.14"
  }
 },
 "nbformat": 4,
 "nbformat_minor": 2
}

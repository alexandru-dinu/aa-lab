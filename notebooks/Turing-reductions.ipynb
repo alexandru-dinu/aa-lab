{
 "cells": [
  {
   "cell_type": "markdown",
   "metadata": {},
   "source": [
    "**Turing reductions**\n",
    "\n",
    "We want to **reduce** a hard problem (i.e.: not previously solved) into an easier one (i.e.: previously solved), such that a solution to the easier problem can be used to solve the harder problem.\n",
    "\n",
    "Let's consider two problems: A and B. A **Turing reduction** from A to B is\n",
    "written as: **A ≤<sub>T</sub> B**, and read as: **problem A reduces to problem B**.\n",
    "This reduction solves A, assuming the solution to B is already known (thus, A is *at least as easy as* B). Again, problem B is *easy* in the sense that we know how to solve it; it has been previously solved.\n",
    "\n",
    "_Solving A when knowing how to solve B_ is captured in the following pseudo-code:\n",
    "\n",
    "    def solveA(inputA):\n",
    "\t    inputB = transform(inputA)\n",
    "\t    return solveB(inB)\n",
    "\n",
    "For example, if we know how to solve the [satisfiability problem](https://en.wikipedia.org/wiki/Boolean_satisfiability_problem) (SAT), then we can solve the [k-Vertex Cover problem](https://en.wikipedia.org/wiki/Vertex_cover). The only thing we have to do is to convert the input from the k-Vertex Cover problem, `G = (V, E), k`, into a boolean formula `φ`."
   ]
  },
  {
   "cell_type": "markdown",
   "metadata": {},
   "source": [
    "**What does the transformation tell us?**\n",
    "\n",
    "- If A is not a decidable problem, then B is not a decidable problem\n",
    "- If B is a decidable problem, then A is also a decidable problem. \n",
    "- In general, `if A is not in X, then B is not in X` and `if B is in X, then A is in X`."
   ]
  },
  {
   "cell_type": "markdown",
   "metadata": {},
   "source": [
    "**Proving that some problem B is undedecidable**\n",
    "\n",
    "Use, as a *known fact*, some other problem (A) that we know a priori is undecidable (A can be the halting problem, for example).\n",
    "\n",
    "Next, assume that B is decidable, and then reduce A into B (**A ≤<sub>T</sub> B**). This makes A the *hard* problem, and B the *easy* one. \n",
    "\n",
    "Based on what we have said earlier, we want to construct this reduction so that we can solve A, assuming B is solved - and it is, because we made the assumption that is decidable.\n",
    "\n",
    "We will then have solved A using B, but we know that A is not decidable. This is a contradiction that stems from our original assumption that B is decidable.\n",
    "\n",
    "Therefore, B is not decidable.\n",
    "\n",
    "**Constructing the reduction**\n",
    "\n",
    "We want to use the decidability of B to find a way to decide A. We can do that by building a Turing machine to decide A using the Turing machine that decides B as a subroutine.\n",
    "\n",
    "**Observation 1**\n",
    "\n",
    "Because the ≤<sub>T</sub> relation is antisymmetric, we cannot use **B ≤<sub>T</sub> A** to prove that B is undecidable. This follows from the logic we used above.\n",
    "\n",
    "If we write **B ≤<sub>T</sub> A**, then we mean that we can solve B, knowing a solution to A (this makes B the *hard* problem and A the *easy* one). But A was proven a priori that is undecidable, therefore this schema is wrong."
   ]
  },
  {
   "cell_type": "markdown",
   "metadata": {},
   "source": [
    "**Transformation's particularities**\n",
    "\n",
    "The transformation `T` takes as an input an instance for problem A, in<sub>A</sub> and outputs an input for problem B, in<sub>B</sub>: **T(in<sub>A</sub>) = in<sub>B</sub>**. The transformation must be decidable (i.e.: it should only convert inputs and not perform any other computation that itself is not decidable).\n",
    "\n",
    "For example, the following transformation is not decidable, because it performs a computation that is not decidable (asks whether M halts, and that is the halting problem):\n",
    "\n",
    "    T(M): {\n",
    "\t\tif M halts \n",
    "\t\t\treturn M' with 111 on the tape\n",
    "\t\telse\n",
    "\t\t\treturn M' with 000 on the tape\n",
    "\t}\n",
    "\t\t\t\t\n",
    "\n",
    "The following example illustrates a transformation that is decidable, because the only thing it does is to alter its input (i.e. convert it to `w$w`):\n",
    "\n",
    "    T(M, w): {\n",
    "\t    w' = w.append('$').append(w) // w' = w$w\n",
    "\t    return M' with w' on the tape\n",
    "\t}"
   ]
  },
  {
   "cell_type": "markdown",
   "metadata": {},
   "source": [
    "Examples of undecidable problems:\n",
    "\n",
    "1. Are two Turing machines equivalent?\n",
    "2. Is a given program guaranteed to halt?\n",
    "3. Will a given Turing machine accept any string?"
   ]
  },
  {
   "cell_type": "code",
   "execution_count": null,
   "metadata": {},
   "outputs": [],
   "source": []
  },
  {
   "cell_type": "code",
   "execution_count": null,
   "metadata": {},
   "outputs": [],
   "source": []
  }
 ],
 "metadata": {
  "kernelspec": {
   "display_name": "Python 2",
   "language": "python",
   "name": "python2"
  },
  "language_info": {
   "codemirror_mode": {
    "name": "ipython",
    "version": 2
   },
   "file_extension": ".py",
   "mimetype": "text/x-python",
   "name": "python",
   "nbconvert_exporter": "python",
   "pygments_lexer": "ipython2",
   "version": "2.7.14"
  }
 },
 "nbformat": 4,
 "nbformat_minor": 2
}

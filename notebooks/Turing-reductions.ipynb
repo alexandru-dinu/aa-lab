{
 "cells": [
  {
   "cell_type": "markdown",
   "metadata": {},
   "source": [
    "**Turing reductions**\n",
    "\n",
    "We want to **reduce** a hard problem (i.e. not previously solved) to an easier one (i.e. previously solved), such that a solution to the easier problem can be used to solve the harder problem.\n",
    "\n",
    "Let's consider two problems: $A$ and $B$. A **Turing reduction** from $A$ to $B$ is\n",
    "written as: $A \\leq_T B$, and read as: problem $A$ reduces to problem $B$.\n",
    "This reduction solves $A$, assuming the solution to $B$ is already known (thus, $A$ is *at least as easy as* $B$). Again, problem $B$ is *easy* in the sense that we know how to solve it; it has been previously solved.\n",
    "\n",
    "_Solving $A$ when knowing how to solve $B$_ is captured in the following pseudo-code:\n",
    "\n",
    "    def solveA(inputA):\n",
    "\t    inputB = transform(inputA)\n",
    "\t    return solveB(inputB)\n",
    "\n",
    "For example, if we know how to solve the [satisfiability problem](https://en.wikipedia.org/wiki/Boolean_satisfiability_problem) (SAT), then we can solve the [k-Vertex Cover problem](https://en.wikipedia.org/wiki/Vertex_cover). The only thing we have to do is to convert the input from the k-Vertex Cover problem, $\langle G = (V, E), k \rangle$, into a boolean formula $\\phi$."
   ]
  },
  {
   "cell_type": "markdown",
   "metadata": {},
   "source": [
    "**What does the reduction $A \\leq_T B$ tell us?**\n",
    "\n",
    "- If $A$ is not a decidable problem, then $B$ is not a decidable problem\n",
    "    - therefore, use this schema to prove that some problem $B$ is undecidable\n",
    "- If $B$ is a decidable problem, then $A$ is also a decidable problem. \n",
    "\n",
    "\n",
    "- If $B$ is a recursively-enumerable problem, then $A$ is also a recursively-enumerable problem\n",
    "- If $A$ is not a recursively-enumerable problem, then $B$ is not a recursively-enumerable problem\n",
    "\n",
    "\n",
    "Let $X$ denote some set of problems ($X = R, X = RE, X = coRE$). In general:\n",
    "- if $A \\notin X$, then $B \\notin X$\n",
    "- if $B \\in X$, then $A \\in X$"
   ]
  },
  {
   "cell_type": "markdown",
   "metadata": {},
   "source": [
    "**Proving that some problem $B$ is undedecidable**\n",
    "\n",
    "Use, as a *known fact*, some other problem $A$ that we know a priori is undecidable ($A$ can be the halting problem, for example).\n",
    "\n",
    "Next, assume that $B$ is decidable, and then reduce A into B ($A \\leq_T B$). This makes $A$ the *hard* problem, and $B$ the *easy* one. \n",
    "\n",
    "Based on what we have said earlier, we want to construct this reduction so that we can solve $A$, assuming $B$ is solved - and it is, because we made the assumption that is decidable.\n",
    "\n",
    "We will then have solved $A$ using $B$, but we know that $A$ is not decidable. This is a contradiction that stems from our original assumption that $B$ is decidable. $\\therefore \\ B$ is not decidable $\\blacksquare$\n",
    "\n",
    "**Constructing the reduction**\n",
    "\n",
    "We want to use the decidability of $B$ to find a way to decide $A$. We can do that by building a Turing machine to decide $A$ using the Turing machine that decides $B$ as a subroutine.\n",
    "\n",
    "**Observation 1**\n",
    "\n",
    "Because the $\\leq_T$ relation is antisymmetric, we cannot use $B \\leq_T A$ to prove that $B$ is undecidable. This follows from the logic we used above.\n",
    "\n",
    "If we write $B \\leq_T A$, then we mean that we can solve $B$, knowing a solution to $A$ (this makes $B$ the *hard* problem and $A$ the *easy* one). But $A$ was proven a priori that is undecidable, therefore this schema is wrong.\n",
    "\n",
    "**Observation 2**\n",
    "\n",
    "Suppose $A \\leq_T B$ and $B \\in X$, where $X = R, RE, coRE$. This means that $A$ is also in the same class $X$ (again, use $B$ to solve $A$). \n",
    "\n",
    "We cannot use $B \\leq_T A$ and knowing that $B \\in X$ to prove that also $A \\in X$. $B \\leq_T A$ means use $A$ to solve $B$, but we can't say anything about $A$ yet."
   ]
  },
  {
   "cell_type": "markdown",
   "metadata": {},
   "source": [
    "**Transformation's particularities**\n",
    "\n",
    "The transformation $T$ takes as an input an instance for problem $A, \\ in_A$, and outputs an input for problem $B, \\ in_B$: $T(in_A) = in_B$ The transformation must be decidable (i.e.: it should not perform any computation that itself is not decidable).\n",
    "\n",
    "For example, the following transformation is not decidable, because it performs a computation that is not decidable (asks whether M halts, and that is the halting problem):\n",
    "\n",
    "    T(M,w): {\n",
    "        if M(w) halts\n",
    "            doSomething()\n",
    "        else\n",
    "            doSomethingElse()\n",
    "    }\n",
    "\t\t\t\t\n",
    "\n",
    "The following example illustrates a transformation that is decidable, because the only thing it does is to alter its input (i.e. convert it to $w\\$w$):\n",
    "\n",
    "    T(M, w): {\n",
    "        w' = w.append('$').append(w) // w' = w$w\n",
    "        return M' with w' on the tape\n",
    "    }"
   ]
  },
  {
   "cell_type": "markdown",
   "metadata": {},
   "source": [
    "Examples of undecidable problems:\n",
    "\n",
    "1. Are two Turing machines equivalent?\n",
    "2. Is a given program guaranteed to halt?\n",
    "3. Will a given Turing machine accept any string?"
   ]
  },
  {
   "cell_type": "markdown",
   "metadata": {},
   "source": [
    "**Example of a reduction**\n",
    "\n",
    "$f_{111}(enc(M)) = 1 \\iff M(111)$ halts.\n",
    "\n",
    "Prove that $f_{111}$ is not decidable.\n",
    "\n",
    "steps:\n",
    "- use as known fact that $f_h$ is not decidable\n",
    "- assume that $f_{111}$ is decidable $\\Rightarrow$ there exists a Turing machine $M_{111}$ that decides $f_{111}$\n",
    "- reduce $f_h$ into $f_{111}$: $f_h \\leq_T f_{111}$ (this makes $f_{111}$ the *easy* problem, and $f_h$ the *hard* problem)\n",
    "- the reduction tells us that if we can solve $f_{111}$ (and we can, from the assumption) then we can also solve $f_h$ (we will reach to a contradiction)\n",
    "- construct a transformation $T$, such that $f_h(M, w) = 1 \\iff f_{111}(T(M, w)) = 1$\n",
    "- $T(M,w) = G$, a Turing machine that represents the input for the $f_{111}$ problem (more specifically, for $M_{111}$)\n",
    "- construct $T$ as follows:\n",
    "\n",
    "        T(M, w): {\n",
    "            construct a Turing machine G\n",
    "            name G's input as v\n",
    "            \n",
    "            if v == 111\n",
    "                simulate M(w)\n",
    "            else \n",
    "                G will loop\n",
    "        }\n",
    "        \n",
    "- we note that the transformation is decidable, because all $T$ does is constructing and returning a Turing machine $G$ with some particular behavior. The behavior is that $G$ will simulate $M(w)$ if $G$'s input is $111$, otherwise it will loop\n",
    "- prove that $f_h(M, w) = 1 \\iff f_{111}(T(M, w)) = 1$\n",
    "\n",
    "$\\Rightarrow$: $f_h(M, w) = 1 \\Rightarrow M(w)$ halts $\\Rightarrow G(111)$ halts $\\Rightarrow f_{111}(G) = f_{111}(T(M, w)) = 1$\n",
    "\n",
    "$\\Leftarrow$: $f_{111}(T(M, w)) = 1 \\Rightarrow G(111)$ halts, from the transformation, $G$ will simulate $M(w)$ if $G$'s input is $111 \\Rightarrow M(w)$ halts $\\Rightarrow f_h(M, w) = 1$\n",
    "\n",
    "Therefore, we have solved the halting problem using as a subroutine the solution for $f_{111}$. But we know that the halting problem is not *solvable* (i.e.: undecidable) $\\Rightarrow$ contradiction $\\Rightarrow$ the assumption that $f_{111}$ is decidable is wrong $\\Rightarrow f_{111}$ is not decidable $\\blacksquare$"
   ]
  },
  {
   "cell_type": "markdown",
   "metadata": {},
   "source": [
    "**The complement of a problem**\n",
    "\n",
    "Definitions of the complement of a problem $f :\\overline{f}$ and the complement-set of $RE: coRE$ can be found [on the wiki](https://ocw.cs.pub.ro/ppcarte/doku.php?id=aa:beyondre). Here, we will give some intuition about this class and what it represents.\n",
    "\n",
    "A problem (function) is in $coRE$ if its complement is in $RE$ (all problems for which we can prove $RE$ membership are problems in $coRE$).\n",
    "\n",
    "Therefore:\n",
    "- if $f \\in coRE$, then we can accept its complement: $\\overline{f}$\n",
    "- if $f \\in coRE$, then we can accept (give) the *no*-answer of $f$\n",
    "- the set $coRE$ captures the difficulty of giving a *no*-answer to a problem\n",
    "\n",
    "It's easy to see that $\\overline{f_h}$, the complement of the halting problem, which asks if, given a Turing machine $M$ and an input $w$, $M(w)$ will not halt, is in $coRE$. That is because the complement of the complement of the halting problem (halting problem itself) is in $RE$. It's impossible to give a *yes*-answer to $\\overline{f_h}$ (i.e.: we can't say *yes* if a Turing machine would halt on some input, otherwise we would have solved the halting problem).\n",
    "\n",
    "This means that if a problem $f$ is both in $RE$ and $coRE$, $f$ is decidable ($\\in R$), because we can accept both $f$ and $\\overline{f}$. We can give answers for both cases."
   ]
  }
 ],
 "metadata": {
  "kernelspec": {
   "display_name": "Python 3",
   "language": "python",
   "name": "python3"
  },
  "language_info": {
   "codemirror_mode": {
    "name": "ipython",
    "version": 3
   },
   "file_extension": ".py",
   "mimetype": "text/x-python",
   "name": "python",
   "nbconvert_exporter": "python",
   "pygments_lexer": "ipython3",
   "version": "3.6.3"
  }
 },
 "nbformat": 4,
 "nbformat_minor": 2
}
